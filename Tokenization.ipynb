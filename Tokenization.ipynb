{
 "cells": [
  {
   "cell_type": "markdown",
   "id": "6bc68df0-7384-40fd-b868-3dd9adfe2f01",
   "metadata": {},
   "source": [
    "## Tokenization"
   ]
  },
  {
   "cell_type": "markdown",
   "id": "7a523c94-5886-41dc-9378-b1fc184e9320",
   "metadata": {},
   "source": [
    "Tokenization is at the heart of much weirdness of the LLMs.\n",
    "\n",
    "    1. Why can't LLM spell words?\n",
    "    2. Why can't LLM do super simple string processing tasks like reversing a string?\n",
    "    3. Why is LLM worse aat non-English languages (e.g. Japanese)?\n",
    "    4. Why is LLM bad at simple arithmetic?\n",
    "    5. Why did GPT-2 have more than necessary trouble coding in Python?\n",
    "    5. Why does my LLM abruptly halt when it sees the string \"<|endoftext|>\"?\n",
    "    6. What is this weird warning I get about a \"trailing whitespace\"?\n",
    "    7. Why does the LLM break if I ask it about \"SolidGoldMagikarp\"?\n",
    "    8. Why should I prefer to use YAML over JSON with LLMs?\n",
    "    9. Why is LLM not actually end-to-end language modeling?\n",
    "    10. What is the real root of suffering?\n",
    "\n",
    "#### Tokenization"
   ]
  },
  {
   "cell_type": "code",
   "execution_count": 3,
   "id": "00d57680-8400-4073-964f-5a7378e85038",
   "metadata": {},
   "outputs": [
    {
     "data": {
      "text/plain": [
       "'안녕하세요 👋 (hello in Korean)'"
      ]
     },
     "execution_count": 3,
     "metadata": {},
     "output_type": "execute_result"
    }
   ],
   "source": [
    "\"안녕하세요 👋 (hello in Korean)\""
   ]
  },
  {
   "cell_type": "code",
   "execution_count": 10,
   "id": "74953134-889c-487a-82c1-a4c912e787a5",
   "metadata": {},
   "outputs": [
    {
     "data": {
      "text/plain": [
       "[50504,\n",
       " 45397,\n",
       " 54616,\n",
       " 49464,\n",
       " 50836,\n",
       " 32,\n",
       " 128075,\n",
       " 32,\n",
       " 40,\n",
       " 104,\n",
       " 101,\n",
       " 108,\n",
       " 108,\n",
       " 111,\n",
       " 32,\n",
       " 105,\n",
       " 110,\n",
       " 32,\n",
       " 75,\n",
       " 111,\n",
       " 114,\n",
       " 101,\n",
       " 97,\n",
       " 110,\n",
       " 41]"
      ]
     },
     "execution_count": 10,
     "metadata": {},
     "output_type": "execute_result"
    }
   ],
   "source": [
    "[ord(x) for x in \"안녕하세요 👋 (hello in Korean)\"]"
   ]
  },
  {
   "cell_type": "code",
   "execution_count": 14,
   "id": "7470b9a4-0690-4f96-9d81-db76006abfa1",
   "metadata": {},
   "outputs": [
    {
     "data": {
      "text/plain": [
       "[236,\n",
       " 149,\n",
       " 136,\n",
       " 235,\n",
       " 133,\n",
       " 149,\n",
       " 237,\n",
       " 149,\n",
       " 152,\n",
       " 236,\n",
       " 132,\n",
       " 184,\n",
       " 236,\n",
       " 154,\n",
       " 148,\n",
       " 32,\n",
       " 240,\n",
       " 159,\n",
       " 145,\n",
       " 139,\n",
       " 32,\n",
       " 40,\n",
       " 104,\n",
       " 101,\n",
       " 108,\n",
       " 108,\n",
       " 111,\n",
       " 32,\n",
       " 105,\n",
       " 110,\n",
       " 32,\n",
       " 75,\n",
       " 111,\n",
       " 114,\n",
       " 101,\n",
       " 97,\n",
       " 110,\n",
       " 41]"
      ]
     },
     "execution_count": 14,
     "metadata": {},
     "output_type": "execute_result"
    }
   ],
   "source": [
    "#encoding with utf-8\n",
    "\n",
    "list(\"안녕하세요 👋 (hello in Korean)\".encode(\"utf-8\"))\n"
   ]
  },
  {
   "cell_type": "code",
   "execution_count": 15,
   "id": "a7af33f7-a269-498f-9761-c184002d0e9a",
   "metadata": {},
   "outputs": [
    {
     "name": "stdout",
     "output_type": "stream",
     "text": [
      "Initialized empty Git repository in C:/Users/anish/OneDrive/Desktop/LLM Projects/GPT_Tokenizer/tokenizer_notebook/.git/\n"
     ]
    }
   ],
   "source": [
    "!git init"
   ]
  },
  {
   "cell_type": "code",
   "execution_count": null,
   "id": "733485cc-a716-4d6b-98ce-fe20e86269f2",
   "metadata": {},
   "outputs": [],
   "source": []
  }
 ],
 "metadata": {
  "kernelspec": {
   "display_name": "Python 3 (ipykernel)",
   "language": "python",
   "name": "python3"
  },
  "language_info": {
   "codemirror_mode": {
    "name": "ipython",
    "version": 3
   },
   "file_extension": ".py",
   "mimetype": "text/x-python",
   "name": "python",
   "nbconvert_exporter": "python",
   "pygments_lexer": "ipython3",
   "version": "3.12.1"
  }
 },
 "nbformat": 4,
 "nbformat_minor": 5
}
